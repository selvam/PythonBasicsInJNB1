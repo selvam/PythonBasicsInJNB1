{
 "cells": [
  {
   "cell_type": "markdown",
   "metadata": {},
   "source": [
    "# Bronze Project"
   ]
  },
  {
   "cell_type": "markdown",
   "metadata": {},
   "source": [
    "# Create a empty board"
   ]
  },
  {
   "cell_type": "code",
   "execution_count": 23,
   "metadata": {},
   "outputs": [],
   "source": [
    "def displayBoardEmpty():\n",
    "    print(\"  |  |  \");\n",
    "    print(\"--------\");\n",
    "    print(\"  |  |  \");\n",
    "    print(\"--------\");\n",
    "    print(\"  |  |  \");"
   ]
  },
  {
   "cell_type": "code",
   "execution_count": 24,
   "metadata": {},
   "outputs": [
    {
     "name": "stdout",
     "output_type": "stream",
     "text": [
      "  |  |  \n",
      "--------\n",
      "  |  |  \n",
      "--------\n",
      "  |  |  \n"
     ]
    }
   ],
   "source": [
    "displayBoardEmpty()"
   ]
  },
  {
   "cell_type": "code",
   "execution_count": 91,
   "metadata": {},
   "outputs": [],
   "source": [
    "boardIndex = [' ']*10"
   ]
  },
  {
   "cell_type": "code",
   "execution_count": 92,
   "metadata": {},
   "outputs": [],
   "source": [
    "boardIndex[0] = '-'"
   ]
  },
  {
   "cell_type": "code",
   "execution_count": 93,
   "metadata": {},
   "outputs": [],
   "source": [
    "from IPython.display import clear_output\n",
    "\n",
    "def displayBoard(boardIndex):\n",
    "    clear_output()\n",
    "    print(boardIndex[7]+\" | \"+boardIndex[8]+\" | \"+boardIndex[9]);\n",
    "    print(\"---------\");\n",
    "    print(boardIndex[4]+\" | \"+boardIndex[5]+\" | \"+boardIndex[6]);\n",
    "    print(\"---------\");\n",
    "    print(boardIndex[1]+\" | \"+boardIndex[2]+\" | \"+boardIndex[3]);"
   ]
  },
  {
   "cell_type": "code",
   "execution_count": 94,
   "metadata": {},
   "outputs": [
    {
     "name": "stdout",
     "output_type": "stream",
     "text": [
      "  |   |  \n",
      "---------\n",
      "  |   |  \n",
      "---------\n",
      "  |   |  \n"
     ]
    }
   ],
   "source": [
    "displayBoard(boardIndex)"
   ]
  },
  {
   "cell_type": "markdown",
   "metadata": {},
   "source": [
    "# Function to assign a marker to a player"
   ]
  },
  {
   "cell_type": "code",
   "execution_count": 95,
   "metadata": {},
   "outputs": [],
   "source": [
    "def assignMarkerToPlayer():\n",
    "    mark = '';\n",
    "    while mark not in ['x','o']:\n",
    "        mark = input(\"Player 1 Please enter your marker\");\n",
    "    \n",
    "    if mark.upper() == 'X':\n",
    "        return ('X','O')        \n",
    "    elif mark.upper() == 'O':\n",
    "        return ('O','X')"
   ]
  },
  {
   "cell_type": "code",
   "execution_count": 96,
   "metadata": {},
   "outputs": [
    {
     "name": "stdout",
     "output_type": "stream",
     "text": [
      "Player 1 Please enter your markerx\n"
     ]
    },
    {
     "data": {
      "text/plain": [
       "('X', 'O')"
      ]
     },
     "execution_count": 96,
     "metadata": {},
     "output_type": "execute_result"
    }
   ],
   "source": [
    "assignMarkerToPlayer()"
   ]
  },
  {
   "cell_type": "markdown",
   "metadata": {},
   "source": [
    "# Function to place the markers at the postion "
   ]
  },
  {
   "cell_type": "code",
   "execution_count": 97,
   "metadata": {},
   "outputs": [],
   "source": [
    "def assignMarkerPosition(boardIndex,marker,position):\n",
    "    if position in range(1,10):\n",
    "        boardIndex[position] = marker;\n",
    "    else:\n",
    "        print(\"Please enter position from 1-9\")"
   ]
  },
  {
   "cell_type": "code",
   "execution_count": 113,
   "metadata": {},
   "outputs": [],
   "source": [
    "assignMarkerPosition(boardIndex,'o',4)"
   ]
  },
  {
   "cell_type": "code",
   "execution_count": 114,
   "metadata": {},
   "outputs": [
    {
     "name": "stdout",
     "output_type": "stream",
     "text": [
      "  |   |  \n",
      "---------\n",
      "o |   | o\n",
      "---------\n",
      "o | o | o\n"
     ]
    }
   ],
   "source": [
    "displayBoard(boardIndex)"
   ]
  },
  {
   "cell_type": "markdown",
   "metadata": {},
   "source": [
    "# Write a function that takes a board and check if someone won"
   ]
  },
  {
   "cell_type": "code",
   "execution_count": 100,
   "metadata": {},
   "outputs": [],
   "source": [
    "def checkWinner(boardIndex,marker):\n",
    "    return((boardIndex[1] == marker and boardIndex[2] == marker and boardIndex[3] == marker) or\n",
    "           (boardIndex[4] == marker and boardIndex[5] == marker and boardIndex[6] == marker) or\n",
    "           (boardIndex[7] == marker and boardIndex[8] == marker and boardIndex[9] == marker) or\n",
    "           (boardIndex[1] == marker and boardIndex[4] == marker and boardIndex[7] == marker) or\n",
    "           (boardIndex[3] == marker and boardIndex[6] == marker and boardIndex[9] == marker) or\n",
    "           (boardIndex[1] == marker and boardIndex[5] == marker and boardIndex[9] == marker) or\n",
    "           (boardIndex[2] == marker and boardIndex[5] == marker and boardIndex[8] == marker) or\n",
    "           (boardIndex[3] == marker and boardIndex[5] == marker and boardIndex[7] == marker))"
   ]
  },
  {
   "cell_type": "code",
   "execution_count": 101,
   "metadata": {},
   "outputs": [
    {
     "data": {
      "text/plain": [
       "False"
      ]
     },
     "execution_count": 101,
     "metadata": {},
     "output_type": "execute_result"
    }
   ],
   "source": [
    "checkWinner(boardIndex,'x')"
   ]
  },
  {
   "cell_type": "markdown",
   "metadata": {},
   "source": [
    "# Assign First player Random"
   ]
  },
  {
   "cell_type": "code",
   "execution_count": 102,
   "metadata": {},
   "outputs": [],
   "source": [
    "import random\n",
    "\n",
    "def choosePlayerOne():\n",
    "    if random.randint(1,2) == 2:\n",
    "        return 'Player 2';\n",
    "    else:\n",
    "        return 'Player 1';"
   ]
  },
  {
   "cell_type": "code",
   "execution_count": 103,
   "metadata": {},
   "outputs": [
    {
     "data": {
      "text/plain": [
       "'Player 2'"
      ]
     },
     "execution_count": 103,
     "metadata": {},
     "output_type": "execute_result"
    }
   ],
   "source": [
    "choosePlayerOne()"
   ]
  },
  {
   "cell_type": "markdown",
   "metadata": {},
   "source": [
    "# Write a function to check a free space in block"
   ]
  },
  {
   "cell_type": "code",
   "execution_count": 104,
   "metadata": {},
   "outputs": [],
   "source": [
    "def checkEmptyBlock(boardIndex,position):\n",
    "    return boardIndex[position] == ' '"
   ]
  },
  {
   "cell_type": "code",
   "execution_count": 72,
   "metadata": {},
   "outputs": [
    {
     "data": {
      "text/plain": [
       "False"
      ]
     },
     "execution_count": 72,
     "metadata": {},
     "output_type": "execute_result"
    }
   ],
   "source": [
    "checkEmptyBlock(boardIndex,1)"
   ]
  },
  {
   "cell_type": "markdown",
   "metadata": {},
   "source": [
    "# Write a function to check the board is full or not"
   ]
  },
  {
   "cell_type": "code",
   "execution_count": 117,
   "metadata": {},
   "outputs": [],
   "source": [
    "def checkBoardFull(boardIndex):\n",
    "    return not ' ' in boardIndex;"
   ]
  },
  {
   "cell_type": "code",
   "execution_count": 118,
   "metadata": {},
   "outputs": [
    {
     "data": {
      "text/plain": [
       "False"
      ]
     },
     "execution_count": 118,
     "metadata": {},
     "output_type": "execute_result"
    }
   ],
   "source": [
    "checkBoardFull(boardIndex)"
   ]
  },
  {
   "cell_type": "code",
   "execution_count": null,
   "metadata": {},
   "outputs": [],
   "source": []
  }
 ],
 "metadata": {
  "kernelspec": {
   "display_name": "Python 3",
   "language": "python",
   "name": "python3"
  },
  "language_info": {
   "codemirror_mode": {
    "name": "ipython",
    "version": 3
   },
   "file_extension": ".py",
   "mimetype": "text/x-python",
   "name": "python",
   "nbconvert_exporter": "python",
   "pygments_lexer": "ipython3",
   "version": "3.7.1"
  }
 },
 "nbformat": 4,
 "nbformat_minor": 2
}
